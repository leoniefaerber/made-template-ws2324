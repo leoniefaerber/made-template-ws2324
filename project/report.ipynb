{
 "cells": [
  {
   "cell_type": "markdown",
   "metadata": {},
   "source": [
    "Leonie Färber  \n",
    "09.01.2024"
   ]
  },
  {
   "cell_type": "markdown",
   "metadata": {},
   "source": [
    "# Physical Activity and Health in Europe"
   ]
  },
  {
   "cell_type": "markdown",
   "metadata": {},
   "source": [
    "## Introduction  \n",
    "Over the last decades, the rate of people living a more sedentary lifestyle in Europe has increased drastically which may have adverse health effects. This project analyzes the correlation between the average time spent on physical activity and the health of the population in European countries. To evaluate the health of a population two indicators are examined. On the one hand, the percentage of people reporting depressive symptoms is considered as an indicator of mental health. On the other hand, a self-report on perceived health is used to assess general health. "
   ]
  },
  {
   "cell_type": "markdown",
   "metadata": {},
   "source": [
    "## Methods  \n",
    "### Datasources  \n",
    "#### Datasource 1: Time spent on pyhsical activity\n",
    "* Metadata URL: https://ec.europa.eu/eurostat/databrowser/view/hlth_ehis_pe2e$dv_300/default/table?lang=de\n",
    "* Data URL: https://ec.europa.eu/eurostat/api/dissemination/sdmx/2.1/data/HLTH_EHIS_PE2E/?format=SDMX-CSV&lang=de&label=label_only\n",
    "* Data Type: CSV\n",
    "\n",
    "Time spent on health-promoting (non-work-related) physical activity by country and year.\n",
    "\n",
    "#### Datasource 2: Depressive symptoms\n",
    "* Metadata URL: https://ec.europa.eu/eurostat/databrowser/view/hlth_ehis_mh1e/default/table?lang=de\n",
    "* Data URL: https://ec.europa.eu/eurostat/api/dissemination/sdmx/2.1/data/hlth_ehis_mh1e/?format=SDMX-CSV&lang=de&label=label_only\n",
    "* Data Type: CSV\n",
    "\n",
    "Current depressive symptoms by country and year.\n",
    "\n",
    "#### Datasource 3: Self-report on general health\n",
    "* Metadata URL: https://ec.europa.eu/eurostat/databrowser/view/hlth_silc_02/default/table?lang=de\n",
    "* Data URL: https://ec.europa.eu/eurostat/api/dissemination/sdmx/2.1/data/hlth_silc_02/?format=SDMX-CSV&lang=de&label=label_only\n",
    "* Data Type: CSV\n",
    "\n",
    "Self-report on health by country and year\n",
    "\n",
    "### Selection of Data Sources\n",
    "The choice of data sources was mainly influenced by the quality of data provided. Finding comparable data sources on health and movement that provide a similar amount of data for all included countries on a world wide scale proved difficult. Additionally, comparing the effect of movement on health drastically loses significance if inhabitants of the compared countries have vastly different lifestyles. So while choosing a more global scale for this project might generally be interesting it would require to check for multiple other correlating factors to be meaningful. This would go beyond the intended scope of this project. Therefore, this project limits its scope to a much smaller area. Europe provides comparable living standards and is of particular interest since inhabitants are on average becoming more sedentary due to e.g. the effects of digitalization. The chosen datasources allow us to make reasonable comparisons since the measurements were taken in the same time frame and from the same set of countries.  \n",
    "\n",
    "### Data Pipeline\n",
    "#### Extract\n",
    "In the first step the data is extracted from the provided source files. The data pipeline uses the pandas library to read the data from the CSV files and convert it into a pandas DataFrame.\n",
    "#### Transform\n",
    "The data transformation contains three main steps for all data sources.  \n",
    "1. Dropping columns that will not provide any valuable information  \n",
    "All three datasources contain columns that contain data unrelated to this project. These were removed.\n",
    "2. Dropping rows with null values  \n",
    "All rows that contain null values in columns that are strictly necessary for comparisons were dropped.\n",
    "3. Uniform naming  \n",
    "The columns followed different naming conventions and were often abbreviated. To increase readablity all columns now are uniformly named and any abbrevations have been replaced by their spelled out counterparts.  \n",
    "#### Load\n",
    "After the data has been transformed, the last step is to load the results to their destination sqlite files. In this step the different data sources were not merged to increase flexibility for the interpretation of the data. By not merging data there are more options for joining and slicing the data.\n"
   ]
  },
  {
   "cell_type": "markdown",
   "metadata": {},
   "source": [
    "## Results\n",
    "### Dependencies"
   ]
  },
  {
   "cell_type": "code",
   "execution_count": 5,
   "metadata": {},
   "outputs": [
    {
     "name": "stdout",
     "output_type": "stream",
     "text": [
      "Requirement already satisfied: pandas in /Users/leoniefaerber/opt/anaconda3/lib/python3.9/site-packages (1.3.4)\n",
      "Requirement already satisfied: python-dateutil>=2.7.3 in /Users/leoniefaerber/opt/anaconda3/lib/python3.9/site-packages (from pandas) (2.8.2)\n",
      "Requirement already satisfied: pytz>=2017.3 in /Users/leoniefaerber/opt/anaconda3/lib/python3.9/site-packages (from pandas) (2021.3)\n",
      "Requirement already satisfied: numpy>=1.17.3 in /Users/leoniefaerber/opt/anaconda3/lib/python3.9/site-packages (from pandas) (1.20.3)\n",
      "Requirement already satisfied: six>=1.5 in /Users/leoniefaerber/opt/anaconda3/lib/python3.9/site-packages (from python-dateutil>=2.7.3->pandas) (1.16.0)\n",
      "Note: you may need to restart the kernel to use updated packages.\n",
      "Requirement already satisfied: SQLAlchemy==1.4.46 in /Users/leoniefaerber/opt/anaconda3/lib/python3.9/site-packages (1.4.46)\n",
      "Requirement already satisfied: greenlet!=0.4.17 in /Users/leoniefaerber/opt/anaconda3/lib/python3.9/site-packages (from SQLAlchemy==1.4.46) (1.1.1)\n",
      "Note: you may need to restart the kernel to use updated packages.\n"
     ]
    }
   ],
   "source": [
    "%pip install pandas\n",
    "%pip install 'SQLAlchemy==1.4.46'"
   ]
  },
  {
   "cell_type": "markdown",
   "metadata": {},
   "source": [
    "### Imports"
   ]
  },
  {
   "cell_type": "code",
   "execution_count": 6,
   "metadata": {},
   "outputs": [],
   "source": [
    "import os\n",
    "import subprocess\n",
    "import sqlalchemy\n",
    "import pandas as pd"
   ]
  },
  {
   "cell_type": "markdown",
   "metadata": {},
   "source": [
    "### Load Data"
   ]
  },
  {
   "cell_type": "code",
   "execution_count": 7,
   "metadata": {},
   "outputs": [],
   "source": [
    "# If any of the databases don't exist, run datapipeline\n",
    "if not (os.path.exists(\"../data/activity.sqlite\") and os.path.exists(\"../data/activity.sqlite\") and os.path.exists(\"../data/activity.sqlite\")):\n",
    "    subprocess.run([\"python\", \"pipeline.py\"])\n",
    "\n",
    "# Load activity data\n",
    "activity_engine = sqlalchemy.create_engine('sqlite:///../data/activity.sqlite')\n",
    "activity = pd.read_sql_table('activity', activity_engine)\n",
    "\n",
    "# Load general health data\n",
    "general_health_engine = sqlalchemy.create_engine('sqlite:///../data/general_health.sqlite')\n",
    "general_health = pd.read_sql_table('general_health', general_health_engine)\n",
    "\n",
    "# Load mental health data\n",
    "mental_health_engine = sqlalchemy.create_engine('sqlite:///../data/mental_health.sqlite')\n",
    "mental_health = pd.read_sql_table('mental_health', mental_health_engine)"
   ]
  }
 ],
 "metadata": {
  "kernelspec": {
   "display_name": "base",
   "language": "python",
   "name": "python3"
  },
  "language_info": {
   "codemirror_mode": {
    "name": "ipython",
    "version": 3
   },
   "file_extension": ".py",
   "mimetype": "text/x-python",
   "name": "python",
   "nbconvert_exporter": "python",
   "pygments_lexer": "ipython3",
   "version": "3.9.7"
  }
 },
 "nbformat": 4,
 "nbformat_minor": 2
}
